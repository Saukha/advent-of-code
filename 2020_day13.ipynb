{
 "cells": [
  {
   "cell_type": "code",
   "execution_count": 97,
   "metadata": {},
   "outputs": [
    {
     "data": {
      "text/plain": [
       "[19, 37, 883, 23, 13, 17, 797, 41, 29]"
      ]
     },
     "execution_count": 97,
     "metadata": {},
     "output_type": "execute_result"
    }
   ],
   "source": [
    "# 2020 day 13 part 1\n",
    "# Examples\n",
    "#earliest = 939\n",
    "#buses = [7,13,59,31,19]\n",
    "\n",
    "earliest = 1006605\n",
    "buses = [19,37,883,23,13,17,797,41,29]\n",
    "buses\n"
   ]
  },
  {
   "cell_type": "code",
   "execution_count": 98,
   "metadata": {},
   "outputs": [
    {
     "name": "stdout",
     "output_type": "stream",
     "text": [
      "bus 19 miss 4\n",
      "bus 37 miss 20\n",
      "bus 883 miss 868\n",
      "bus 23 miss 10\n",
      "bus 13 miss 2\n",
      "bus 17 miss 1\n",
      "bus 797 miss 791\n",
      "bus 41 miss 14\n",
      "bus 29 miss 15\n",
      "[4, 20, 868, 10, 2, 1, 791, 14, 15]\n"
     ]
    }
   ],
   "source": [
    "# calculate min missed bus at earliest available time\n",
    "miss = []\n",
    "for bus in buses:\n",
    "    miss.append(earliest % bus)\n",
    "    print('bus',bus, 'miss', earliest % bus)\n",
    "print(miss)    "
   ]
  },
  {
   "cell_type": "code",
   "execution_count": 95,
   "metadata": {},
   "outputs": [
    {
     "name": "stdout",
     "output_type": "stream",
     "text": [
      "[15, 17, 15, 13, 11, 16, 6, 27, 14]\n"
     ]
    }
   ],
   "source": [
    "# calculate wait time for next bus\n",
    "wait = []\n",
    "for i in range(0, len(buses)):\n",
    "    wait.append(buses[i]-miss[i])\n",
    "print(wait)"
   ]
  },
  {
   "cell_type": "code",
   "execution_count": 96,
   "metadata": {},
   "outputs": [
    {
     "name": "stdout",
     "output_type": "stream",
     "text": [
      "4782\n"
     ]
    }
   ],
   "source": [
    "# answer wait time of the next soonest bus times the bus number\n",
    "for i in range(0, len(wait)):\n",
    "    if wait[i] == min(wait):\n",
    "        print(buses[i]*wait[i])"
   ]
  },
  {
   "cell_type": "code",
   "execution_count": 84,
   "metadata": {},
   "outputs": [
    {
     "data": {
      "text/plain": [
       "4782"
      ]
     },
     "execution_count": 84,
     "metadata": {},
     "output_type": "execute_result"
    }
   ],
   "source": [
    "6*797"
   ]
  },
  {
   "cell_type": "code",
   "execution_count": 62,
   "metadata": {},
   "outputs": [
    {
     "data": {
      "text/plain": [
       "883"
      ]
     },
     "execution_count": 62,
     "metadata": {},
     "output_type": "execute_result"
    }
   ],
   "source": [
    "max(buses)"
   ]
  },
  {
   "cell_type": "code",
   "execution_count": 3,
   "metadata": {},
   "outputs": [
    {
     "name": "stdout",
     "output_type": "stream",
     "text": [
      "answer: 4782\n"
     ]
    }
   ],
   "source": [
    "# 2020 day 13 part 1\n",
    "# Examples\n",
    "#earliest = 939\n",
    "#buses = [7,13,59,31,19]\n",
    "\n",
    "# inputs\n",
    "earliest = 1006605\n",
    "l = '19,x,x,x,x,x,x,x,x,x,x,x,x,37,x,x,x,x,x,883,x,x,x,x,x,x,x,23,x,x,x,x,13,x,x,x,17,x,x,x,x,x,x,x,x,x,x,x,x,x,797,x,x,x,x,x,x,x,x,x,41,x,x,x,x,x,x,x,x,x,x,x,x,x,x,x,x,x,x,29'\n",
    "l = list(l.split(','))\n",
    "buses = [int(x) for x in l if x !='x']\n",
    "\n",
    "# calculate min missed bus at earliest available time\n",
    "miss = []\n",
    "wait = []\n",
    "for bus in buses:\n",
    "    miss.append(earliest % bus)\n",
    "    wait.append(bus - earliest % bus)\n",
    "#    print('bus',bus, 'miss', earliest % bus, 'wait', bus - earliest % bus)\n",
    "\n",
    "# answer wait time of the next soonest bus times the bus number\n",
    "for i in range(0, len(wait)):\n",
    "    if wait[i] == min(wait):\n",
    "        print('answer:', buses[i]*wait[i])\n",
    "\n",
    "    "
   ]
  },
  {
   "cell_type": "code",
   "execution_count": 163,
   "metadata": {},
   "outputs": [],
   "source": [
    "# part 2\n",
    "\n",
    "# Examples\n",
    "# The earliest timestamp that matches the lists:\n",
    "l1 = '17,x,13,19'      # is 3417.\n",
    "l2 = '67,7,59,61'      # first occurs at timestamp 754018.\n",
    "l3 = '67,x,7,59,61'    # first occurs at timestamp 779210.\n",
    "l4 = '67,7,x,59,61'    # first occurs at timestamp 1261476.\n",
    "l5 = '1789,37,47,1889' # first occurs at timestamp 1202161486.\n",
    "L1_start = 3417-1000\n",
    "L2_start = 754018-10000\n",
    "L3_start = 779210-10000\n",
    "L4_start = 1261476-10000\n",
    "L5_start = 1202161486-10000000\n",
    "L1 = list(l1.split(','))\n",
    "L2 = list(l2.split(','))\n",
    "L3 = list(l3.split(','))\n",
    "L4 = list(l4.split(','))\n",
    "L5 = list(l5.split(','))\n",
    "\n",
    "\n",
    "# inputs\n",
    "L_start = 100000000000000\n",
    "l = '19,x,x,x,x,x,x,x,x,x,x,x,x,37,x,x,x,x,x,883,x,x,x,x,x,x,x,23,x,x,x,x,13,x,x,x,17,x,x,x,x,x,x,x,x,x,x,x,x,x,797,x,x,x,x,x,x,x,x,x,41,x,x,x,x,x,x,x,x,x,x,x,x,x,x,x,x,x,x,29'\n",
    "L = l.split(',')\n"
   ]
  },
  {
   "cell_type": "code",
   "execution_count": 151,
   "metadata": {},
   "outputs": [],
   "source": [
    "# create bus schedules\n",
    "def schedule(l):\n",
    "    buses = []\n",
    "    plus_t = []\n",
    "    j = 0\n",
    "    for i in l:\n",
    "        if i !='x':\n",
    "            buses.append(i)\n",
    "            plus_t.append(j)\n",
    "        j+=1\n",
    "    return(buses, plus_t)\n"
   ]
  },
  {
   "cell_type": "code",
   "execution_count": 152,
   "metadata": {},
   "outputs": [
    {
     "name": "stdout",
     "output_type": "stream",
     "text": [
      "['1789', '37', '47', '1889']\n",
      "['1789', '37', '47', '1889']\n",
      "[0, 1, 2, 3]\n"
     ]
    }
   ],
   "source": [
    "buses, plus_t = schedule(L5)\n",
    "print(L5)\n",
    "print(buses)\n",
    "print(plus_t)\n"
   ]
  },
  {
   "cell_type": "code",
   "execution_count": 157,
   "metadata": {},
   "outputs": [
    {
     "name": "stdout",
     "output_type": "stream",
     "text": [
      "['1789', '37', '47', '1889']\n",
      "[0, 1, 2, 3]\n",
      "i: 1202161386 [False, False, False, False]\n",
      "i: 1202161387 [False, False, False, False]\n",
      "i: 1202161388 [False, False, False, False]\n",
      "i: 1202161389 [False, False, False, False]\n",
      "i: 1202161390 [False, False, False, False]\n",
      "i: 1202161391 [False, False, False, False]\n",
      "i: 1202161392 [False, False, True, False]\n",
      "i: 1202161393 [False, False, False, False]\n",
      "i: 1202161394 [False, False, False, False]\n",
      "i: 1202161395 [False, False, False, False]\n",
      "i: 1202161396 [False, False, False, False]\n",
      "i: 1202161397 [False, False, False, False]\n",
      "i: 1202161398 [False, False, False, False]\n",
      "i: 1202161399 [False, False, False, False]\n",
      "i: 1202161400 [False, False, False, False]\n",
      "i: 1202161401 [False, False, False, False]\n",
      "i: 1202161402 [False, False, False, False]\n",
      "i: 1202161403 [False, False, False, False]\n",
      "i: 1202161404 [False, False, False, False]\n",
      "i: 1202161405 [False, False, False, False]\n",
      "i: 1202161406 [False, False, False, False]\n",
      "i: 1202161407 [False, False, False, False]\n",
      "i: 1202161408 [False, False, False, False]\n",
      "i: 1202161409 [False, False, False, False]\n",
      "i: 1202161410 [False, False, False, False]\n",
      "i: 1202161411 [False, False, False, False]\n",
      "i: 1202161412 [False, True, False, False]\n",
      "i: 1202161413 [False, False, False, False]\n",
      "i: 1202161414 [False, False, False, False]\n",
      "i: 1202161415 [False, False, False, False]\n",
      "i: 1202161416 [False, False, False, False]\n",
      "i: 1202161417 [False, False, False, False]\n",
      "i: 1202161418 [False, False, False, False]\n",
      "i: 1202161419 [False, False, False, False]\n",
      "i: 1202161420 [False, False, False, False]\n",
      "i: 1202161421 [False, False, False, False]\n",
      "i: 1202161422 [False, False, False, False]\n",
      "i: 1202161423 [False, False, False, False]\n",
      "i: 1202161424 [False, False, False, False]\n",
      "i: 1202161425 [False, False, False, False]\n",
      "i: 1202161426 [False, False, False, False]\n",
      "i: 1202161427 [False, False, False, False]\n",
      "i: 1202161428 [False, False, False, False]\n",
      "i: 1202161429 [False, False, False, False]\n",
      "i: 1202161430 [False, False, False, False]\n",
      "i: 1202161431 [False, False, False, False]\n",
      "i: 1202161432 [False, False, False, False]\n",
      "i: 1202161433 [False, False, False, False]\n",
      "i: 1202161434 [False, False, False, False]\n",
      "i: 1202161435 [False, False, False, False]\n",
      "i: 1202161436 [False, False, False, False]\n",
      "i: 1202161437 [False, False, False, False]\n",
      "i: 1202161438 [False, False, False, False]\n",
      "i: 1202161439 [False, False, True, False]\n",
      "i: 1202161440 [False, False, False, False]\n",
      "i: 1202161441 [False, False, False, False]\n",
      "i: 1202161442 [False, False, False, False]\n",
      "i: 1202161443 [False, False, False, False]\n",
      "i: 1202161444 [False, False, False, False]\n",
      "i: 1202161445 [False, False, False, False]\n",
      "i: 1202161446 [False, False, False, False]\n",
      "i: 1202161447 [False, False, False, False]\n",
      "i: 1202161448 [False, False, False, False]\n",
      "i: 1202161449 [False, True, False, False]\n",
      "i: 1202161450 [False, False, False, False]\n",
      "i: 1202161451 [False, False, False, False]\n",
      "i: 1202161452 [False, False, False, False]\n",
      "i: 1202161453 [False, False, False, False]\n",
      "i: 1202161454 [False, False, False, False]\n",
      "i: 1202161455 [False, False, False, False]\n",
      "i: 1202161456 [False, False, False, False]\n",
      "i: 1202161457 [False, False, False, False]\n",
      "i: 1202161458 [False, False, False, False]\n",
      "i: 1202161459 [False, False, False, False]\n",
      "i: 1202161460 [False, False, False, False]\n",
      "i: 1202161461 [False, False, False, False]\n",
      "i: 1202161462 [False, False, False, False]\n",
      "i: 1202161463 [False, False, False, False]\n",
      "i: 1202161464 [False, False, False, False]\n",
      "i: 1202161465 [False, False, False, False]\n",
      "i: 1202161466 [False, False, False, False]\n",
      "i: 1202161467 [False, False, False, False]\n",
      "i: 1202161468 [False, False, False, False]\n",
      "i: 1202161469 [False, False, False, False]\n",
      "i: 1202161470 [False, False, False, False]\n",
      "i: 1202161471 [False, False, False, False]\n",
      "i: 1202161472 [False, False, False, False]\n",
      "i: 1202161473 [False, False, False, False]\n",
      "i: 1202161474 [False, False, False, False]\n",
      "i: 1202161475 [False, False, False, False]\n",
      "i: 1202161476 [False, False, False, False]\n",
      "i: 1202161477 [False, False, False, False]\n",
      "i: 1202161478 [False, False, False, False]\n",
      "i: 1202161479 [False, False, False, False]\n",
      "i: 1202161480 [False, False, False, False]\n",
      "i: 1202161481 [False, False, False, False]\n",
      "i: 1202161482 [False, False, False, False]\n",
      "i: 1202161483 [False, False, False, False]\n",
      "i: 1202161484 [False, False, False, False]\n",
      "i: 1202161485 [False, False, False, False]\n",
      "i: 1202161486 [True, True, True, True]\n",
      "i: 1202161487 [False, False, False, False]\n",
      "i: 1202161488 [False, False, False, False]\n",
      "i: 1202161489 [False, False, False, False]\n",
      "i: 1202161490 [False, False, False, False]\n",
      "i: 1202161491 [False, False, False, False]\n",
      "i: 1202161492 [False, False, False, False]\n",
      "i: 1202161493 [False, False, False, False]\n",
      "i: 1202161494 [False, False, False, False]\n",
      "i: 1202161495 [False, False, False, False]\n",
      "i: 1202161496 [False, False, False, False]\n",
      "i: 1202161497 [False, False, False, False]\n",
      "i: 1202161498 [False, False, False, False]\n",
      "i: 1202161499 [False, False, False, False]\n",
      "i: 1202161500 [False, False, False, False]\n",
      "i: 1202161501 [False, False, False, False]\n",
      "i: 1202161502 [False, False, False, False]\n",
      "i: 1202161503 [False, False, False, False]\n",
      "i: 1202161504 [False, False, False, False]\n",
      "i: 1202161505 [False, False, False, False]\n",
      "i: 1202161506 [False, False, False, False]\n",
      "i: 1202161507 [False, False, False, False]\n",
      "i: 1202161508 [False, False, False, False]\n",
      "i: 1202161509 [False, False, False, False]\n",
      "i: 1202161510 [False, False, False, False]\n",
      "i: 1202161511 [False, False, False, False]\n",
      "i: 1202161512 [False, False, False, False]\n",
      "i: 1202161513 [False, False, False, False]\n",
      "i: 1202161514 [False, False, False, False]\n",
      "i: 1202161515 [False, False, False, False]\n",
      "i: 1202161516 [False, False, False, False]\n",
      "i: 1202161517 [False, False, False, False]\n",
      "i: 1202161518 [False, False, False, False]\n",
      "i: 1202161519 [False, False, False, False]\n",
      "i: 1202161520 [False, False, False, False]\n",
      "i: 1202161521 [False, False, False, False]\n",
      "i: 1202161522 [False, False, False, False]\n",
      "i: 1202161523 [False, True, False, False]\n",
      "i: 1202161524 [False, False, False, False]\n",
      "i: 1202161525 [False, False, False, False]\n",
      "i: 1202161526 [False, False, False, False]\n",
      "i: 1202161527 [False, False, False, False]\n",
      "i: 1202161528 [False, False, False, False]\n",
      "i: 1202161529 [False, False, False, False]\n",
      "i: 1202161530 [False, False, False, False]\n",
      "i: 1202161531 [False, False, False, False]\n",
      "i: 1202161532 [False, False, False, False]\n",
      "i: 1202161533 [False, False, True, False]\n",
      "i: 1202161534 [False, False, False, False]\n",
      "i: 1202161535 [False, False, False, False]\n",
      "i: 1202161536 [False, False, False, False]\n",
      "i: 1202161537 [False, False, False, False]\n",
      "i: 1202161538 [False, False, False, False]\n",
      "i: 1202161539 [False, False, False, False]\n",
      "i: 1202161540 [False, False, False, False]\n",
      "i: 1202161541 [False, False, False, False]\n",
      "i: 1202161542 [False, False, False, False]\n",
      "i: 1202161543 [False, False, False, False]\n",
      "i: 1202161544 [False, False, False, False]\n",
      "i: 1202161545 [False, False, False, False]\n",
      "i: 1202161546 [False, False, False, False]\n",
      "i: 1202161547 [False, False, False, False]\n",
      "i: 1202161548 [False, False, False, False]\n",
      "i: 1202161549 [False, False, False, False]\n",
      "i: 1202161550 [False, False, False, False]\n",
      "i: 1202161551 [False, False, False, False]\n",
      "i: 1202161552 [False, False, False, False]\n",
      "i: 1202161553 [False, False, False, False]\n",
      "i: 1202161554 [False, False, False, False]\n",
      "i: 1202161555 [False, False, False, False]\n",
      "i: 1202161556 [False, False, False, False]\n",
      "i: 1202161557 [False, False, False, False]\n",
      "i: 1202161558 [False, False, False, False]\n",
      "i: 1202161559 [False, False, False, False]\n",
      "i: 1202161560 [False, True, False, False]\n",
      "i: 1202161561 [False, False, False, False]\n",
      "i: 1202161562 [False, False, False, False]\n",
      "i: 1202161563 [False, False, False, False]\n",
      "i: 1202161564 [False, False, False, False]\n",
      "i: 1202161565 [False, False, False, False]\n",
      "i: 1202161566 [False, False, False, False]\n",
      "i: 1202161567 [False, False, False, False]\n",
      "i: 1202161568 [False, False, False, False]\n",
      "i: 1202161569 [False, False, False, False]\n",
      "i: 1202161570 [False, False, False, False]\n",
      "i: 1202161571 [False, False, False, False]\n",
      "i: 1202161572 [False, False, False, False]\n",
      "i: 1202161573 [False, False, False, False]\n",
      "i: 1202161574 [False, False, False, False]\n",
      "i: 1202161575 [False, False, False, False]\n",
      "i: 1202161576 [False, False, False, False]\n",
      "i: 1202161577 [False, False, False, False]\n",
      "i: 1202161578 [False, False, False, False]\n",
      "i: 1202161579 [False, False, False, False]\n",
      "i: 1202161580 [False, False, True, False]\n",
      "i: 1202161581 [False, False, False, False]\n",
      "i: 1202161582 [False, False, False, False]\n",
      "i: 1202161583 [False, False, False, False]\n",
      "i: 1202161584 [False, False, False, False]\n",
      "i: 1202161585 [False, False, False, False]\n",
      "i: 1202161586 [False, False, False, False]\n",
      "i: 1202161587 [False, False, False, False]\n",
      "i: 1202161588 [False, False, False, False]\n",
      "i: 1202161589 [False, False, False, False]\n",
      "i: 1202161590 [False, False, False, False]\n",
      "i: 1202161591 [False, False, False, False]\n",
      "i: 1202161592 [False, False, False, False]\n",
      "i: 1202161593 [False, False, False, False]\n",
      "i: 1202161594 [False, False, False, False]\n",
      "i: 1202161595 [False, False, False, False]\n",
      "i: 1202161596 [False, False, False, False]\n",
      "i: 1202161597 [False, True, False, False]\n",
      "i: 1202161598 [False, False, False, False]\n",
      "i: 1202161599 [False, False, False, False]\n",
      "i: 1202161600 [False, False, False, False]\n",
      "i: 1202161601 [False, False, False, False]\n",
      "i: 1202161602 [False, False, False, False]\n",
      "i: 1202161603 [False, False, False, False]\n",
      "i: 1202161604 [False, False, False, False]\n",
      "i: 1202161605 [False, False, False, False]\n",
      "i: 1202161606 [False, False, False, False]\n",
      "i: 1202161607 [False, False, False, False]\n",
      "i: 1202161608 [False, False, False, False]\n",
      "i: 1202161609 [False, False, False, False]\n",
      "i: 1202161610 [False, False, False, False]\n",
      "i: 1202161611 [False, False, False, False]\n",
      "i: 1202161612 [False, False, False, False]\n",
      "i: 1202161613 [False, False, False, False]\n",
      "i: 1202161614 [False, False, False, False]\n",
      "i: 1202161615 [False, False, False, False]\n",
      "i: 1202161616 [False, False, False, False]\n",
      "i: 1202161617 [False, False, False, False]\n",
      "i: 1202161618 [False, False, False, False]\n",
      "i: 1202161619 [False, False, False, False]\n",
      "i: 1202161620 [False, False, False, False]\n",
      "i: 1202161621 [False, False, False, False]\n",
      "i: 1202161622 [False, False, False, False]\n",
      "i: 1202161623 [False, False, False, False]\n",
      "i: 1202161624 [False, False, False, False]\n",
      "i: 1202161625 [False, False, False, False]\n",
      "i: 1202161626 [False, False, False, False]\n",
      "i: 1202161627 [False, False, True, False]\n",
      "i: 1202161628 [False, False, False, False]\n",
      "i: 1202161629 [False, False, False, False]\n",
      "i: 1202161630 [False, False, False, False]\n",
      "i: 1202161631 [False, False, False, False]\n",
      "i: 1202161632 [False, False, False, False]\n",
      "i: 1202161633 [False, False, False, False]\n",
      "i: 1202161634 [False, True, False, False]\n",
      "i: 1202161635 [False, False, False, False]\n",
      "i: 1202161636 [False, False, False, False]\n",
      "i: 1202161637 [False, False, False, False]\n",
      "i: 1202161638 [False, False, False, False]\n",
      "i: 1202161639 [False, False, False, False]\n",
      "i: 1202161640 [False, False, False, False]\n",
      "i: 1202161641 [False, False, False, False]\n",
      "i: 1202161642 [False, False, False, False]\n",
      "i: 1202161643 [False, False, False, False]\n",
      "i: 1202161644 [False, False, False, False]\n",
      "i: 1202161645 [False, False, False, False]\n",
      "i: 1202161646 [False, False, False, False]\n",
      "i: 1202161647 [False, False, False, False]\n",
      "i: 1202161648 [False, False, False, False]\n",
      "i: 1202161649 [False, False, False, False]\n",
      "i: 1202161650 [False, False, False, False]\n",
      "i: 1202161651 [False, False, False, False]\n",
      "i: 1202161652 [False, False, False, False]\n",
      "i: 1202161653 [False, False, False, False]\n",
      "i: 1202161654 [False, False, False, False]\n",
      "i: 1202161655 [False, False, False, False]\n",
      "i: 1202161656 [False, False, False, False]\n",
      "i: 1202161657 [False, False, False, False]\n",
      "i: 1202161658 [False, False, False, False]\n",
      "i: 1202161659 [False, False, False, False]\n",
      "i: 1202161660 [False, False, False, False]\n",
      "i: 1202161661 [False, False, False, False]\n",
      "i: 1202161662 [False, False, False, False]\n",
      "i: 1202161663 [False, False, False, False]\n",
      "i: 1202161664 [False, False, False, False]\n",
      "i: 1202161665 [False, False, False, False]\n",
      "i: 1202161666 [False, False, False, False]\n",
      "i: 1202161667 [False, False, False, False]\n",
      "i: 1202161668 [False, False, False, False]\n",
      "i: 1202161669 [False, False, False, False]\n",
      "i: 1202161670 [False, False, False, False]\n",
      "i: 1202161671 [False, True, False, False]\n",
      "i: 1202161672 [False, False, False, False]\n",
      "i: 1202161673 [False, False, False, False]\n",
      "i: 1202161674 [False, False, True, False]\n",
      "i: 1202161675 [False, False, False, False]\n",
      "i: 1202161676 [False, False, False, False]\n",
      "i: 1202161677 [False, False, False, False]\n",
      "i: 1202161678 [False, False, False, False]\n",
      "i: 1202161679 [False, False, False, False]\n",
      "i: 1202161680 [False, False, False, False]\n",
      "i: 1202161681 [False, False, False, False]\n",
      "i: 1202161682 [False, False, False, False]\n",
      "i: 1202161683 [False, False, False, False]\n",
      "i: 1202161684 [False, False, False, False]\n",
      "i: 1202161685 [False, False, False, False]\n"
     ]
    }
   ],
   "source": [
    "buses, plus_t = schedule(L5)\n",
    "print(buses)\n",
    "print(plus_t)\n",
    "\n",
    "# find t\n",
    "start = 1202161486-100\n",
    "def find_t(start, buses, plus_t):\n",
    "    for i in range(start, start+100*max(plus_t)):\n",
    "        T = []\n",
    "        for j in range(0, len(buses)):\n",
    "            T.append((i+plus_t[j])%int(buses[j])==0)\n",
    "        print('i:', i, T)\n",
    "        \n",
    "\n",
    "find_t(start, buses, plus_t)"
   ]
  },
  {
   "cell_type": "code",
   "execution_count": 80,
   "metadata": {},
   "outputs": [
    {
     "name": "stdout",
     "output_type": "stream",
     "text": [
      "True True\n",
      "True True\n",
      "False False\n",
      "False False\n"
     ]
    }
   ],
   "source": [
    "flag = True\n",
    "T = [True, True, False, False]\n",
    "for f in T:\n",
    "    flag = flag and f\n",
    "    print(f, flag)\n"
   ]
  },
  {
   "cell_type": "code",
   "execution_count": 118,
   "metadata": {},
   "outputs": [
    {
     "name": "stdout",
     "output_type": "stream",
     "text": [
      "['19', 'x', 'x', 'x', 'x', 'x', 'x', 'x', 'x', 'x', 'x', 'x', 'x', '37', 'x', 'x', 'x', 'x', 'x', '883', 'x', 'x', 'x', 'x', 'x', 'x', 'x', '23', 'x', 'x', 'x', 'x', '13', 'x', 'x', 'x', '17', 'x', 'x', 'x', 'x', 'x', 'x', 'x', 'x', 'x', 'x', 'x', 'x', 'x', '797', 'x', 'x', 'x', 'x', 'x', 'x', 'x', 'x', 'x', '41', 'x', 'x', 'x', 'x', 'x', 'x', 'x', 'x', 'x', 'x', 'x', 'x', 'x', 'x', 'x', 'x', 'x', 'x', '29']\n",
      "['19', '37', '883', '23', '13', '17', '797', '41', '29']\n",
      "[0, 13, 19, 27, 32, 36, 50, 60, 79]\n"
     ]
    }
   ],
   "source": [
    "buses, plus_t = schedule(L)\n",
    "print(L)\n",
    "print(buses)\n",
    "print(plus_t)"
   ]
  },
  {
   "cell_type": "code",
   "execution_count": 165,
   "metadata": {},
   "outputs": [
    {
     "name": "stdout",
     "output_type": "stream",
     "text": [
      "i: 3417 [True, True, True]\n",
      "3417 [True, True, True]\n",
      "i: 754018 [True, True, True, True]\n",
      "754018 [True, True, True, True]\n",
      "i: 779210 [True, True, True, True]\n",
      "779210 [True, True, True, True]\n",
      "i: 1261476 [True, True, True, True]\n",
      "1261476 [True, True, True, True]\n",
      "i: 1202161486 [True, True, True, True]\n",
      "1202161486 [True, True, True, True]\n"
     ]
    }
   ],
   "source": [
    "# find t\n",
    "def find_t(start, l, loop):\n",
    "    buses, plus_t = schedule(l)\n",
    "#    print(buses)\n",
    "#    print(plus_t)\n",
    "    for i in range(start, start+loop*max(plus_t)):\n",
    "        T = []\n",
    "        for j in range(0, len(buses)):\n",
    "            T.append((i+plus_t[j])%int(buses[j])==0)\n",
    "#        print('i:', i, T)\n",
    "        # check condition at timestamp ranging time interval from start to \n",
    "        # some short time in the future, looping thru few iterations of departures\n",
    "        flag = True\n",
    "        for f in T:\n",
    "            flag = flag and f\n",
    "#        print(flag)\n",
    "        if flag:\n",
    "            print('i:', i, T)\n",
    "            break\n",
    "    return(i, T)\n",
    "\n",
    "# test codes\n",
    "t, T = find_t(L1_start, L1, 100000000000000)\n",
    "print(t, T)\n",
    "t, T = find_t(L2_start, L2, 100000000000000)\n",
    "print(t, T)\n",
    "t, T = find_t(L3_start, L3, 100000000000000)\n",
    "print(t, T)\n",
    "t, T = find_t(L4_start, L4, 100000000000000)\n",
    "print(t, T)\n",
    "start = 1202161486-1000000\n",
    "t, T = find_t(L5_start, L5, 100000000000000)\n",
    "print(t, T)\n"
   ]
  },
  {
   "cell_type": "code",
   "execution_count": null,
   "metadata": {},
   "outputs": [],
   "source": [
    "# find answer\n",
    "j, T = find_t(2*L_start, L, 100000000000000)\n",
    "print(j, T)    \n"
   ]
  }
 ],
 "metadata": {
  "kernelspec": {
   "display_name": "Python 3",
   "language": "python",
   "name": "python3"
  },
  "language_info": {
   "codemirror_mode": {
    "name": "ipython",
    "version": 3
   },
   "file_extension": ".py",
   "mimetype": "text/x-python",
   "name": "python",
   "nbconvert_exporter": "python",
   "pygments_lexer": "ipython3",
   "version": "3.8.3"
  }
 },
 "nbformat": 4,
 "nbformat_minor": 4
}
