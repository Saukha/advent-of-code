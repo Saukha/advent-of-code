{
 "cells": [
  {
   "cell_type": "code",
   "execution_count": 97,
   "metadata": {},
   "outputs": [
    {
     "data": {
      "text/plain": [
       "[19, 37, 883, 23, 13, 17, 797, 41, 29]"
      ]
     },
     "execution_count": 97,
     "metadata": {},
     "output_type": "execute_result"
    }
   ],
   "source": [
    "# 2020 day 13 part 1\n",
    "# Examples\n",
    "#earliest = 939\n",
    "#buses = [7,13,59,31,19]\n",
    "\n",
    "earliest = 1006605\n",
    "buses = [19,37,883,23,13,17,797,41,29]\n",
    "buses\n"
   ]
  },
  {
   "cell_type": "code",
   "execution_count": 98,
   "metadata": {},
   "outputs": [
    {
     "name": "stdout",
     "output_type": "stream",
     "text": [
      "bus 19 miss 4\n",
      "bus 37 miss 20\n",
      "bus 883 miss 868\n",
      "bus 23 miss 10\n",
      "bus 13 miss 2\n",
      "bus 17 miss 1\n",
      "bus 797 miss 791\n",
      "bus 41 miss 14\n",
      "bus 29 miss 15\n",
      "[4, 20, 868, 10, 2, 1, 791, 14, 15]\n"
     ]
    }
   ],
   "source": [
    "# calculate min missed bus at earliest available time\n",
    "miss = []\n",
    "for bus in buses:\n",
    "    miss.append(earliest % bus)\n",
    "    print('bus',bus, 'miss', earliest % bus)\n",
    "print(miss)    "
   ]
  },
  {
   "cell_type": "code",
   "execution_count": 95,
   "metadata": {},
   "outputs": [
    {
     "name": "stdout",
     "output_type": "stream",
     "text": [
      "[15, 17, 15, 13, 11, 16, 6, 27, 14]\n"
     ]
    }
   ],
   "source": [
    "# calculate wait time for next bus\n",
    "wait = []\n",
    "for i in range(0, len(buses)):\n",
    "    wait.append(buses[i]-miss[i])\n",
    "print(wait)"
   ]
  },
  {
   "cell_type": "code",
   "execution_count": 96,
   "metadata": {},
   "outputs": [
    {
     "name": "stdout",
     "output_type": "stream",
     "text": [
      "4782\n"
     ]
    }
   ],
   "source": [
    "# answer wait time of the next soonest bus times the bus number\n",
    "for i in range(0, len(wait)):\n",
    "    if wait[i] == min(wait):\n",
    "        print(buses[i]*wait[i])"
   ]
  },
  {
   "cell_type": "code",
   "execution_count": 84,
   "metadata": {},
   "outputs": [
    {
     "data": {
      "text/plain": [
       "4782"
      ]
     },
     "execution_count": 84,
     "metadata": {},
     "output_type": "execute_result"
    }
   ],
   "source": [
    "6*797"
   ]
  },
  {
   "cell_type": "code",
   "execution_count": 62,
   "metadata": {},
   "outputs": [
    {
     "data": {
      "text/plain": [
       "883"
      ]
     },
     "execution_count": 62,
     "metadata": {},
     "output_type": "execute_result"
    }
   ],
   "source": [
    "max(buses)"
   ]
  },
  {
   "cell_type": "code",
   "execution_count": 107,
   "metadata": {},
   "outputs": [
    {
     "name": "stdout",
     "output_type": "stream",
     "text": [
      "answer: 4782\n"
     ]
    }
   ],
   "source": [
    "# 2020 day 13 part 1\n",
    "# Examples\n",
    "#earliest = 939\n",
    "#buses = [7,13,59,31,19]\n",
    "\n",
    "# inputs\n",
    "earliest = 1006605\n",
    "buses = [19,37,883,23,13,17,797,41,29]\n",
    "\n",
    "# calculate min missed bus at earliest available time\n",
    "miss = []\n",
    "wait = []\n",
    "for bus in buses:\n",
    "    miss.append(earliest % bus)\n",
    "    wait.append(bus - earliest % bus)\n",
    "#    print('bus',bus, 'miss', earliest % bus, 'wait', bus - earliest % bus)\n",
    "\n",
    "# answer wait time of the next soonest bus times the bus number\n",
    "for i in range(0, len(wait)):\n",
    "    if wait[i] == min(wait):\n",
    "        print('answer:', buses[i]*wait[i])\n",
    "\n",
    "    "
   ]
  },
  {
   "cell_type": "code",
   "execution_count": 108,
   "metadata": {},
   "outputs": [
    {
     "data": {
      "text/plain": [
       "100000000000000"
      ]
     },
     "execution_count": 108,
     "metadata": {},
     "output_type": "execute_result"
    }
   ],
   "source": [
    "# part 2\n",
    "\n",
    "# Examples \n",
    "\n",
    "# The earliest timestamp that matches the list 17,x,13,19 is 3417.\n",
    "l1='67,7,59,61'      # first occurs at timestamp 754018.\n",
    "l2='67,x,7,59,61'    # first occurs at timestamp 779210.\n",
    "l3='67,7,x,59,61'    # first occurs at timestamp 1261476.\n",
    "\n",
    "# inputs\n",
    "earliest = 100000000000000\n",
    "l='19,x,x,x,x,x,x,x,x,x,x,x,x,37,x,x,x,x,x,883,x,x,x,x,x,x,x,23,x,x,x,x,13,x,x,x,17,x,x,x,x,x,x,x,x,x,x,x,x,x,797,x,x,x,x,x,x,x,x,x,41,x,x,x,x,x,x,x,x,x,x,x,x,x,x,x,x,x,x,29'\n",
    "buses = l.split(',')\n",
    "buses[0:10]\n",
    "earliest\n",
    "\n",
    "# departure timestamp\n",
    "d=[]\n"
   ]
  },
  {
   "cell_type": "code",
   "execution_count": null,
   "metadata": {},
   "outputs": [],
   "source": []
  }
 ],
 "metadata": {
  "kernelspec": {
   "display_name": "Python 3",
   "language": "python",
   "name": "python3"
  },
  "language_info": {
   "codemirror_mode": {
    "name": "ipython",
    "version": 3
   },
   "file_extension": ".py",
   "mimetype": "text/x-python",
   "name": "python",
   "nbconvert_exporter": "python",
   "pygments_lexer": "ipython3",
   "version": "3.8.3"
  }
 },
 "nbformat": 4,
 "nbformat_minor": 4
}
