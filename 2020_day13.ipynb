{
 "cells": [
  {
   "cell_type": "code",
   "execution_count": 1,
   "metadata": {},
   "outputs": [
    {
     "data": {
      "text/plain": [
       "[19, 37, 883, 23, 13, 17, 797, 41, 29]"
      ]
     },
     "execution_count": 1,
     "metadata": {},
     "output_type": "execute_result"
    }
   ],
   "source": [
    "# 2020 day 13 part 1\n",
    "# Examples\n",
    "#earliest = 939\n",
    "#buses = [7,13,59,31,19]\n",
    "\n",
    "earliest = 1006605\n",
    "buses = [19,37,883,23,13,17,797,41,29]\n",
    "buses\n"
   ]
  },
  {
   "cell_type": "code",
   "execution_count": 2,
   "metadata": {},
   "outputs": [
    {
     "name": "stdout",
     "output_type": "stream",
     "text": [
      "bus 19 miss 4\n",
      "bus 37 miss 20\n",
      "bus 883 miss 868\n",
      "bus 23 miss 10\n",
      "bus 13 miss 2\n",
      "bus 17 miss 1\n",
      "bus 797 miss 791\n",
      "bus 41 miss 14\n",
      "bus 29 miss 15\n",
      "[4, 20, 868, 10, 2, 1, 791, 14, 15]\n"
     ]
    }
   ],
   "source": [
    "# calculate min missed bus at earliest available time\n",
    "miss = []\n",
    "for bus in buses:\n",
    "    miss.append(earliest % bus)\n",
    "    print('bus',bus, 'miss', earliest % bus)\n",
    "print(miss)    "
   ]
  },
  {
   "cell_type": "code",
   "execution_count": 3,
   "metadata": {},
   "outputs": [
    {
     "name": "stdout",
     "output_type": "stream",
     "text": [
      "[15, 17, 15, 13, 11, 16, 6, 27, 14]\n"
     ]
    }
   ],
   "source": [
    "# calculate wait time for next bus\n",
    "wait = []\n",
    "for i in range(0, len(buses)):\n",
    "    wait.append(buses[i]-miss[i])\n",
    "print(wait)"
   ]
  },
  {
   "cell_type": "code",
   "execution_count": 4,
   "metadata": {},
   "outputs": [
    {
     "name": "stdout",
     "output_type": "stream",
     "text": [
      "4782\n"
     ]
    }
   ],
   "source": [
    "# answer wait time of the next soonest bus times the bus number\n",
    "for i in range(0, len(wait)):\n",
    "    if wait[i] == min(wait):\n",
    "        print(buses[i]*wait[i])"
   ]
  },
  {
   "cell_type": "code",
   "execution_count": 5,
   "metadata": {},
   "outputs": [
    {
     "data": {
      "text/plain": [
       "883"
      ]
     },
     "execution_count": 5,
     "metadata": {},
     "output_type": "execute_result"
    }
   ],
   "source": [
    "max(buses)"
   ]
  },
  {
   "cell_type": "code",
   "execution_count": 6,
   "metadata": {},
   "outputs": [
    {
     "name": "stdout",
     "output_type": "stream",
     "text": [
      "answer: 4782\n"
     ]
    }
   ],
   "source": [
    "# 2020 day 13 part 1\n",
    "# Examples\n",
    "#earliest = 939\n",
    "#buses = [7,13,59,31,19]\n",
    "\n",
    "# inputs\n",
    "earliest = 1006605\n",
    "l = '19,x,x,x,x,x,x,x,x,x,x,x,x,37,x,x,x,x,x,883,x,x,x,x,x,x,x,23,x,x,x,x,13,x,x,x,17,x,x,x,x,x,x,x,x,x,x,x,x,x,797,x,x,x,x,x,x,x,x,x,41,x,x,x,x,x,x,x,x,x,x,x,x,x,x,x,x,x,x,29'\n",
    "l = list(l.split(','))\n",
    "buses = [int(x) for x in l if x !='x']\n",
    "\n",
    "# calculate min missed bus at earliest available time\n",
    "miss = []\n",
    "wait = []\n",
    "for bus in buses:\n",
    "    miss.append(earliest % bus)\n",
    "    wait.append(bus - earliest % bus)\n",
    "#    print('bus',bus, 'miss', earliest % bus, 'wait', bus - earliest % bus)\n",
    "\n",
    "# answer wait time of the next soonest bus times the bus number\n",
    "for i in range(0, len(wait)):\n",
    "    if wait[i] == min(wait):\n",
    "        print('answer:', buses[i]*wait[i])\n",
    "\n",
    "    "
   ]
  },
  {
   "cell_type": "code",
   "execution_count": 7,
   "metadata": {},
   "outputs": [],
   "source": [
    "# part 2\n",
    "\n",
    "# Examples\n",
    "# The earliest timestamp that matches the lists:\n",
    "l1 = '17,x,13,19'      # is 3417.\n",
    "l2 = '67,7,59,61'      # first occurs at timestamp 754018.\n",
    "l3 = '67,x,7,59,61'    # first occurs at timestamp 779210.\n",
    "l4 = '67,7,x,59,61'    # first occurs at timestamp 1261476.\n",
    "l5 = '1789,37,47,1889' # first occurs at timestamp 1202161486.\n",
    "L1_earliest = 3417-100\n",
    "L2_earliest = 754018-100\n",
    "L3_earliest = 779210-100\n",
    "L4_earliest = 1261476-100\n",
    "L5_earliest = 1202161486-100\n",
    "L1 = list(l1.split(','))\n",
    "L2 = list(l2.split(','))\n",
    "L3 = list(l3.split(','))\n",
    "L4 = list(l4.split(','))\n",
    "L5 = list(l5.split(','))\n",
    "\n",
    "# inputs\n",
    "L_earliest = 100000000000000\n",
    "l = '19,x,x,x,x,x,x,x,x,x,x,x,x,37,x,x,x,x,x,883,x,x,x,x,x,x,x,23,x,x,x,x,13,x,x,x,17,x,x,x,x,x,x,x,x,x,x,x,x,x,797,x,x,x,x,x,x,x,x,x,41,x,x,x,x,x,x,x,x,x,x,x,x,x,x,x,x,x,x,29'\n",
    "L = list(l.split(','))\n"
   ]
  },
  {
   "cell_type": "code",
   "execution_count": 8,
   "metadata": {},
   "outputs": [
    {
     "name": "stdout",
     "output_type": "stream",
     "text": [
      "['19', 'x', 'x', 'x', 'x', 'x', 'x', 'x', 'x', 'x', 'x', 'x', 'x', '37', 'x', 'x', 'x', 'x', 'x', '883', 'x', 'x', 'x', 'x', 'x', 'x', 'x', '23', 'x', 'x', 'x', 'x', '13', 'x', 'x', 'x', '17', 'x', 'x', 'x', 'x', 'x', 'x', 'x', 'x', 'x', 'x', 'x', 'x', 'x', '797', 'x', 'x', 'x', 'x', 'x', 'x', 'x', 'x', 'x', '41', 'x', 'x', 'x', 'x', 'x', 'x', 'x', 'x', 'x', 'x', 'x', 'x', 'x', 'x', 'x', 'x', 'x', 'x', '29']\n"
     ]
    }
   ],
   "source": [
    "print(L)"
   ]
  },
  {
   "cell_type": "code",
   "execution_count": 9,
   "metadata": {},
   "outputs": [],
   "source": [
    "# create bus schedules\n",
    "import numpy as np\n",
    "\n",
    "def buses_offsets(L):\n",
    "    buses = []\n",
    "    offsets = []\n",
    "    j = 0\n",
    "    for i in L:\n",
    "        if i !='x':\n",
    "            buses.append(i)\n",
    "            offsets.append(j)\n",
    "        j+=1\n",
    "    buses = np.array(buses, dtype = int)\n",
    "    offsets = np.array(offsets, dtype = int)\n",
    "    return(buses, offsets)\n"
   ]
  },
  {
   "cell_type": "code",
   "execution_count": 10,
   "metadata": {},
   "outputs": [
    {
     "name": "stdout",
     "output_type": "stream",
     "text": [
      "['19', 'x', 'x', 'x', 'x', 'x', 'x', 'x', 'x', 'x', 'x', 'x', 'x', '37', 'x', 'x', 'x', 'x', 'x', '883', 'x', 'x', 'x', 'x', 'x', 'x', 'x', '23', 'x', 'x', 'x', 'x', '13', 'x', 'x', 'x', '17', 'x', 'x', 'x', 'x', 'x', 'x', 'x', 'x', 'x', 'x', 'x', 'x', 'x', '797', 'x', 'x', 'x', 'x', 'x', 'x', 'x', 'x', 'x', '41', 'x', 'x', 'x', 'x', 'x', 'x', 'x', 'x', 'x', 'x', 'x', 'x', 'x', 'x', 'x', 'x', 'x', 'x', '29']\n",
      "[ 19  37 883  23  13  17 797  41  29]\n",
      "[ 0 13 19 27 32 36 50 60 79]\n"
     ]
    }
   ],
   "source": [
    "buses, offsets = buses_offsets(L)\n",
    "print(L)\n",
    "print(buses)\n",
    "print(offsets)\n"
   ]
  },
  {
   "cell_type": "code",
   "execution_count": 11,
   "metadata": {
    "scrolled": true
   },
   "outputs": [
    {
     "name": "stdout",
     "output_type": "stream",
     "text": [
      "['17', 'x', '13', '19']\n",
      "[17 13 19]\n",
      "[0 2 3]\n"
     ]
    }
   ],
   "source": [
    "buses, offsets = buses_offsets(L1)\n",
    "print(L1)\n",
    "print(buses)\n",
    "print(offsets)"
   ]
  },
  {
   "cell_type": "code",
   "execution_count": 14,
   "metadata": {},
   "outputs": [
    {
     "name": "stdout",
     "output_type": "stream",
     "text": [
      "[1789   37   47 1889]\n",
      "part 2:  t: 1202161386 next departures: [1202161486 1202161487 1202161488 1202161489]\n"
     ]
    }
   ],
   "source": [
    "# find_t \n",
    "def find_t(t, buses, offsets):\n",
    "    # initialize\n",
    "    flag = True \n",
    "    while flag:\n",
    "#        print(t)\n",
    "        # find next departures\n",
    "        next_depts[0] = t + buses[0] - t%buses[0]\n",
    "        for i in range(1, len(buses)):  \n",
    "            next_depts[i] = next_depts[0] + buses[i] - next_depts[0]%buses[i]       \n",
    "#        print('t:', t, next_depts)\n",
    "\n",
    "        # check if all buses depart at their required offsets       \n",
    "        for i in range(1, len(next_depts)):\n",
    "            # flag to exit while loop when flag = True fo all buses\n",
    "            flag = flag and next_depts[i] - next_depts[0] == offsets[i]  \n",
    "\n",
    "        if flag:\n",
    "            break\n",
    "        elif flag == False: # not all buses depart at offsets\n",
    "            # set t for next while loop after dep time of the latest bus\n",
    "            t = max(next_depts)\n",
    "#            print('next t:', t)\n",
    "#            time.sleep(5)\n",
    "            flag = True # reset\n",
    "    return(t, next_depts)\n",
    "\n",
    "# find t for answer, where all buses are departing at the required offset time\n",
    "# initialize variables\n",
    "\n",
    "t_answer = 1871350426152655\n",
    "t_closer = 1871350426000000\n",
    "\n",
    "offsets = []\n",
    "buses, offsets = buses_offsets(L5)\n",
    "next_depts = np.zeros(len(buses), dtype = int)\n",
    "\n",
    "# find_t\n",
    "t, next_depts = find_t(L5_earliest, buses, offsets)\n",
    "\n",
    "print(buses)\n",
    "print('part 2:  t:', t, 'next departures:', next_depts)\n",
    "\n"
   ]
  },
  {
   "cell_type": "code",
   "execution_count": 19,
   "metadata": {},
   "outputs": [
    {
     "name": "stdout",
     "output_type": "stream",
     "text": [
      "4782\n"
     ]
    }
   ],
   "source": [
    "#!/usr/bin/python3\n",
    "\n",
    "# one-line python solution for part 1\n",
    "# from https://www.reddit.com/user/teksimian/\n",
    "# https://www.reddit.com/r/adventofcode/comments/kc4njx/2020_day_13_solutions/\n",
    "\n",
    "import math\n",
    "\n",
    "print(math.prod(sorted(list(zip(list( \n",
    "    map(lambda x: (math.ceil((int(str(open(\"2020_day13.txt\", mode='r').read()).strip().split(\"\\n\")[0]) / x)) * x) \n",
    "        - int(str(open(\"2020_day13.txt\", mode='r').read()).strip().split(\"\\n\")[0]), \n",
    "        list(map(int, list(filter(lambda x: x != 'x', str(open(\"2020_day13.txt\", mode='r').read()).strip().split(\"\\n\")[1].split(\",\"))))))),\n",
    "                                list(map(int, list(filter(lambda x: x != 'x', str(open(\"2020_day13.txt\", mode='r').read()).strip().split(\"\\n\")[1].split(\",\")))))))).pop(0)))"
   ]
  },
  {
   "cell_type": "code",
   "execution_count": 20,
   "metadata": {},
   "outputs": [
    {
     "name": "stdout",
     "output_type": "stream",
     "text": [
      "buses: [1789   37   47 1889] offsets: [0 1 2 3]\n",
      "part 2: last bus left at: 1202161386\n",
      "Next departures at required offsets: [1202161486 1202161487 1202161488 1202161489]\n"
     ]
    }
   ],
   "source": [
    "# part 2 - complete\n",
    "\n",
    "import numpy as np\n",
    "\n",
    "# Examples\n",
    "# The earliest timestamp that matches the lists:\n",
    "l1 = '17,x,13,19'      # is 3417.\n",
    "l2 = '67,7,59,61'      # first occurs at timestamp 754018.\n",
    "l3 = '67,x,7,59,61'    # first occurs at timestamp 779210.\n",
    "l4 = '67,7,x,59,61'    # first occurs at timestamp 1261476.\n",
    "l5 = '1789,37,47,1889' # first occurs at timestamp 1202161486.\n",
    "L1_earliest = 3417-100\n",
    "L2_earliest = 754018-100\n",
    "L3_earliest = 779210-100\n",
    "L4_earliest = 1261476-100\n",
    "L5_earliest = 1202161486-100\n",
    "L1 = list(l1.split(','))\n",
    "L2 = list(l2.split(','))\n",
    "L3 = list(l3.split(','))\n",
    "L4 = list(l4.split(','))\n",
    "L5 = list(l5.split(','))\n",
    "\n",
    "# inputs\n",
    "L_earliest = 100000000000000\n",
    "l = '19,x,x,x,x,x,x,x,x,x,x,x,x,37,x,x,x,x,x,883,x,x,x,x,x,x,x,23,x,x,x,x,13,x,x,x,17,x,x,x,x,x,x,x,x,x,x,x,x,x,797,x,x,x,x,x,x,x,x,x,41,x,x,x,x,x,x,x,x,x,x,x,x,x,x,x,x,x,x,29'\n",
    "L = list(l.split(','))\n",
    "\n",
    "# create bus schedules\n",
    "\n",
    "def buses_offsets(L):\n",
    "    buses = []\n",
    "    offsets = []\n",
    "    j = 0\n",
    "    for i in L:\n",
    "        if i !='x':\n",
    "            buses.append(i)\n",
    "            offsets.append(j)\n",
    "        j+=1\n",
    "    buses = np.array(buses, dtype = int)\n",
    "    offsets = np.array(offsets, dtype = int)\n",
    "    return(buses, offsets)\n",
    "\n",
    "# find_t \n",
    "def find_t(t, buses, offsets):\n",
    "    # initialize\n",
    "    flag = True \n",
    "    while flag:\n",
    "\n",
    "        # find next departures\n",
    "        next_depts[0] = t + buses[0] - t%buses[0]\n",
    "        for i in range(1, len(buses)):  \n",
    "            next_depts[i] = next_depts[0] + buses[i] - next_depts[0]%buses[i]       \n",
    "\n",
    "        # check if all buses depart at their required offsets       \n",
    "        for i in range(1, len(next_depts)):\n",
    "            # flag to exit while loop when flag = True fo all buses\n",
    "            flag = flag and next_depts[i] - next_depts[0] == offsets[i]  \n",
    "\n",
    "        if flag:\n",
    "            break\n",
    "        elif flag == False: # not all buses depart at offsets\n",
    "            # set t for next while loop after dep time of the latest bus\n",
    "            t = max(next_depts)\n",
    "            flag = True # reset\n",
    "    return(t, next_depts)\n",
    "\n",
    "# find t for answer, where all buses are departing at the required offset time\n",
    "# initialize variables\n",
    "offsets = []\n",
    "buses, offsets = buses_offsets(L5)\n",
    "next_depts = np.zeros(len(buses), dtype = int)\n",
    "\n",
    "# find_t\n",
    "t, next_depts = find_t(L5_earliest, buses, offsets)\n",
    "\n",
    "# print results\n",
    "print('buses:', buses, 'offsets:', offsets)\n",
    "print('part 2: last bus left at:', t)\n",
    "print('Next departures at required offsets:', next_depts)\n",
    "\n"
   ]
  },
  {
   "cell_type": "code",
   "execution_count": null,
   "metadata": {},
   "outputs": [],
   "source": [
    "# 2020 day 13 part 2 version e\n",
    "# inputs\n",
    "# buses   = [ 19, 37, 883, 23, 13, 17, 797, 41, 29]\n",
    "# offsets = [  0, 13,  19, 27, 32, 36,  50, 60, 79]\n",
    "# max(buses) = 883\n",
    "L_earliest = 100000000000000\n",
    "next_883_bus = L_earliest - L_earliest%883 + 883\n",
    "start = (L_earliest//(883*19)+1)*883*19\n",
    "end   = start*200\n",
    "\n",
    "#t0 = (i   )%19  ==0  # 19\n",
    "#t1 = (i+13)%37  ==0  # 37\n",
    "#t2 = (i+19)%883 ==0  # 883\n",
    "#t3 = (i+27)%23  ==0  # 23\n",
    "#t4 = (i+32)%13  ==0  # 13\n",
    "#t5 = (i+36)%17  ==0  # 17\n",
    "#t6 = (i+50)%797 ==0  # 797\n",
    "#t7 = (i+60)%41  ==0  # 41\n",
    "#t8 = (i+79)%29  ==0  # 29\n",
    "\n",
    "for i in range(start, end, 883*19):\n",
    "    if   (i+31)%797!=0: # 797\n",
    "        continue\n",
    "    elif (i+41)%41!=0:  # 41\n",
    "        continue\n",
    "    elif (i-6)%37!=0:   # 37\n",
    "        continue\n",
    "    elif (i+60)%29!=0:  # 29\n",
    "        continue\n",
    "    elif (i+8)%23!=0:   # 23\n",
    "        continue\n",
    "    elif (i+17)%17!=0:  # 17\n",
    "        continue\n",
    "    elif (i+13)%13!=0:  # 13\n",
    "        continue\n",
    "    else:\n",
    "        print('Offset departures starts with 1st bus at:', i)\n",
    "        break"
   ]
  }
 ],
 "metadata": {
  "kernelspec": {
   "display_name": "Python 3",
   "language": "python",
   "name": "python3"
  },
  "language_info": {
   "codemirror_mode": {
    "name": "ipython",
    "version": 3
   },
   "file_extension": ".py",
   "mimetype": "text/x-python",
   "name": "python",
   "nbconvert_exporter": "python",
   "pygments_lexer": "ipython3",
   "version": "3.8.3"
  }
 },
 "nbformat": 4,
 "nbformat_minor": 4
}
