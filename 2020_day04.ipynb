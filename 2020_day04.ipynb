{
 "cells": [
  {
   "cell_type": "code",
   "execution_count": 138,
   "metadata": {},
   "outputs": [
    {
     "name": "stdout",
     "output_type": "stream",
     "text": [
      "part 1: 247\n"
     ]
    }
   ],
   "source": [
    "# 2020 day04 part 1\n",
    "\n",
    "# read inputs\n",
    "f = open('2020_day04.txt') # open file to read\n",
    "data = f.readlines()\n",
    "f.close()\n",
    "\n",
    "valid = 0\n",
    "# count & write cleaned/re-organized data to file\n",
    "with open('2020_day04_from_part1.txt', 'w') as f:\n",
    "    i = 0\n",
    "    valid = 0\n",
    "     #   print('current line:', data[i])\n",
    "    while i < len(data):\n",
    "        l = data[i].strip()\n",
    "        while i+1<len(data) and data[i+1]!='\\n':\n",
    "            l = l.strip() + ' ' + data[i+1].strip()\n",
    "            i+=1\n",
    "        \n",
    "        # valid count \n",
    "        count = l.count(':')\n",
    "        if 'cid' in l:\n",
    "            if count == 8:\n",
    "                valid +=1\n",
    "        elif count == 7:\n",
    "            valid += 1    \n",
    "\n",
    "        # write organized data in file\n",
    "        f.write(l.strip()+'\\n')\n",
    "        \n",
    "        # go to next data\n",
    "        i+=1\n",
    "            \n",
    "print('part 1:', valid)"
   ]
  },
  {
   "cell_type": "code",
   "execution_count": 145,
   "metadata": {},
   "outputs": [
    {
     "name": "stdout",
     "output_type": "stream",
     "text": [
      "part 2: 145\n"
     ]
    }
   ],
   "source": [
    "# part 2\n",
    "\n",
    "import re\n",
    "\n",
    "# inputs\n",
    "fp = open('2020_day04_from_part1.txt', 'r')           \n",
    "data = fp.readlines()\n",
    "fp.close()\n",
    "\n",
    "# range and list\n",
    "byr_range = range(1920, 2003)\n",
    "iyr_range = range(2010, 2021)\n",
    "eyr_range = range(2020, 2031)\n",
    "hgtcm_range = range(150, 194)\n",
    "hgtin_range = range(59, 77)\n",
    "ecl_list = ['amb', 'blu', 'brn', 'gry', 'grn', 'hzl', 'oth']\n",
    "\n",
    "# define tests\n",
    "def test_hgt(x):\n",
    "    if 'cm' in x:\n",
    "        return int(x.rstrip('cm')) in hgtcm_range\n",
    "    if 'in' in x:\n",
    "        return int(x.rstrip('in')) in hgtin_range\n",
    "\n",
    "# initialize test results \n",
    "T1 = False\n",
    "T2 = False\n",
    "T3 = False\n",
    "T4 = False\n",
    "T5 = False\n",
    "T6 = False\n",
    "T7 = False\n",
    "\n",
    "# initialize\n",
    "valid_count = 0  \n",
    "i           = 0\n",
    "flag        = True\n",
    "\n",
    "# test data line by line\n",
    "for line in data: \n",
    "    i +=1\n",
    "    j = line.strip()\n",
    "    if re.findall(r\"byr:[\\w\\.-]+\", j)!=[]:\n",
    "        byr = re.findall(r\"byr:[\\w\\.-]+\", j)[0].lstrip('byr:')\n",
    "        T1 = int(byr) in byr_range\n",
    "    if re.findall(r\"iyr:[\\w\\.-]+\", j)!=[]:\n",
    "        iyr = re.findall(r\"iyr:[\\w\\.-]+\", j)[0].lstrip('iyr:')\n",
    "        T2 = int(iyr) in iyr_range\n",
    "    if re.findall(r\"eyr:[\\w\\.-]+\", j)!=[]:\n",
    "        eyr = re.findall(r\"eyr:[\\w\\.-]+\", j)[0].lstrip('eyr:')\n",
    "        T3 = int(eyr) in eyr_range\n",
    "    if re.findall(r\"ecl:[\\w\\.-]+\", j)!=[]:\n",
    "        ecl = re.findall(r\"ecl:[\\w\\.-]+\", j)[0].lstrip('ecl:')\n",
    "        T4 = ecl in ecl_list\n",
    "    if re.findall(r\"pid:[\\w\\.-]+\", j)!=[]:\n",
    "        pid = re.findall(r\"pid:[\\w\\.-]+\", j)[0].lstrip('pid:')\n",
    "        T5 = len(re.findall(r\"[0-9]\", pid))==9\n",
    "    if re.findall(r\"hcl:#[\\w\\.-]+\", j)!=[]:\n",
    "        hcl = re.findall(r\"hcl:#[\\w\\.-]+\", j)[0].lstrip('hcl:')\n",
    "        T6 = len(re.findall(r\"[0-9]\", hcl)) + len(re.findall(r\"[a-f]\", hcl))==6\n",
    "    if re.findall(r\"hgt:[\\w\\.-]+\", j)!=[]:\n",
    "        hgt = re.findall(r\"hgt:[\\w\\.-]+\", j)[0].lstrip('hgt:')\n",
    "        T7 = test_hgt(hgt)\n",
    "    if T1 and T2 and T3 and T4 and T5 and T6 and T7:\n",
    "        valid_count +=1\n",
    "\n",
    "    # reset results\n",
    "    T1 = False\n",
    "    T2 = False\n",
    "    T3 = False\n",
    "    T4 = False\n",
    "    T5 = False\n",
    "    T6 = False\n",
    "    T7 = False\n",
    "\n",
    "print('part 2:', valid_count)\n"
   ]
  }
 ],
 "metadata": {
  "kernelspec": {
   "display_name": "Python 3",
   "language": "python",
   "name": "python3"
  },
  "language_info": {
   "codemirror_mode": {
    "name": "ipython",
    "version": 3
   },
   "file_extension": ".py",
   "mimetype": "text/x-python",
   "name": "python",
   "nbconvert_exporter": "python",
   "pygments_lexer": "ipython3",
   "version": "3.8.3"
  }
 },
 "nbformat": 4,
 "nbformat_minor": 4
}
