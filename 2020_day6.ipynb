{
 "cells": [
  {
   "cell_type": "code",
   "execution_count": 1,
   "metadata": {},
   "outputs": [],
   "source": [
    "with open('2020_day6.txt', 'r') as f:\n",
    "    data = f.readlines()"
   ]
  },
  {
   "cell_type": "code",
   "execution_count": 2,
   "metadata": {},
   "outputs": [
    {
     "data": {
      "text/plain": [
       "'lqhksfnerg'"
      ]
     },
     "execution_count": 2,
     "metadata": {},
     "output_type": "execute_result"
    }
   ],
   "source": [
    "data[0].rstrip('\\n')"
   ]
  },
  {
   "cell_type": "code",
   "execution_count": 3,
   "metadata": {},
   "outputs": [
    {
     "name": "stdout",
     "output_type": "stream",
     "text": [
      "{'z', 'q', 'a', 'e', 'f', 'c', 'b'}\n"
     ]
    },
    {
     "data": {
      "text/plain": [
       "7"
      ]
     },
     "execution_count": 3,
     "metadata": {},
     "output_type": "execute_result"
    }
   ],
   "source": [
    "l = ''\n",
    "l = l + 'ac'\n",
    "l = l + 'ab'\n",
    "l = l + 'abe'\n",
    "l = l + 'abf'\n",
    "l = l + 'azq'\n",
    "q=set(l)\n",
    "print(q)\n",
    "len(q)"
   ]
  },
  {
   "cell_type": "code",
   "execution_count": 4,
   "metadata": {},
   "outputs": [
    {
     "name": "stdout",
     "output_type": "stream",
     "text": [
      "part 1: 6297\n"
     ]
    }
   ],
   "source": [
    "q = set()\n",
    "count_list = []\n",
    "i = 0\n",
    "l = ''\n",
    "\n",
    "while i < len(data)-1:\n",
    "#    print('i: ', i, data[i])\n",
    "    l = l + data[i].rstrip('\\n')\n",
    "#    print(l)\n",
    "    if data[i+1] == '\\n':\n",
    "        count_list.append(len(set(l)))\n",
    "#        print(len(set(l)), set(l))\n",
    "        l = ''\n",
    "    i += 1  \n",
    "\n",
    "print('part 1:', sum(count_list))"
   ]
  },
  {
   "cell_type": "markdown",
   "metadata": {},
   "source": [
    "## part 2"
   ]
  },
  {
   "cell_type": "code",
   "execution_count": 5,
   "metadata": {},
   "outputs": [
    {
     "data": {
      "text/plain": [
       "array([0, 0, 0, 0, 0, 0, 0, 0, 0, 0, 0, 0, 0, 0, 0, 0, 0, 0, 0, 0, 0, 0,\n",
       "       0, 0, 0, 0, 0])"
      ]
     },
     "execution_count": 5,
     "metadata": {},
     "output_type": "execute_result"
    }
   ],
   "source": [
    "import numpy as np\n",
    "q = 'abcdefghijklmnopqrstuvwxyzT'\n",
    "tallies = [0]*27\n",
    "tallies = np.array(tallies)\n",
    "tallies"
   ]
  },
  {
   "cell_type": "code",
   "execution_count": 6,
   "metadata": {},
   "outputs": [
    {
     "data": {
      "text/plain": [
       "array([0, 0, 4, 0, 0, 0, 0, 0, 0, 0, 0, 0, 0, 0, 0, 0, 0, 0, 0, 0, 0, 0,\n",
       "       0, 0, 0, 0, 0])"
      ]
     },
     "execution_count": 6,
     "metadata": {},
     "output_type": "execute_result"
    }
   ],
   "source": [
    "for i in range(0,4):  # loop 4 times\n",
    "    tallies[2] += 1\n",
    "tallies"
   ]
  },
  {
   "cell_type": "code",
   "execution_count": 7,
   "metadata": {},
   "outputs": [
    {
     "name": "stdout",
     "output_type": "stream",
     "text": [
      "['a', 'c', 'e', 'g', 'i', 'k', 'm', 'o', 'q', 's', 'u', 'w', 'y']\n",
      "[1 0 5 0 1 0 1 0 1 0 1 0 1 0 1 0 1 0 1 0 1 0 1 0 1 0 1]\n"
     ]
    }
   ],
   "source": [
    "l = 'acegikmoqsuwy'\n",
    "print(list(l))\n",
    "for a in list(l):\n",
    "    x = q.find(a)\n",
    "#    print(x)\n",
    "    tallies[x]  += 1  # add 1 to the position if a letter is found\n",
    "tallies[26] += 1 # add 1 for each person's answers\n",
    "print(tallies)\n"
   ]
  },
  {
   "cell_type": "code",
   "execution_count": 8,
   "metadata": {},
   "outputs": [],
   "source": [
    "def update_tallies(l):  # for each person's answer set\n",
    "    for a in list(l):\n",
    "        x = q.find(a)  # find position of a in q\n",
    "    #    print(x)\n",
    "        tallies[x]  += 1  # add 1 to the position if a letter is found\n",
    "    tallies[26] += 1 # add 1 for each person's answers\n",
    "    return tallies[26] # return the total of people so far\n"
   ]
  },
  {
   "cell_type": "code",
   "execution_count": 9,
   "metadata": {},
   "outputs": [
    {
     "name": "stdout",
     "output_type": "stream",
     "text": [
      "['a', 'c', 'e', 'g', 'i', 'k', 'm', 'o', 'q', 's', 'u', 'w', 'y']\n",
      "[2 0 6 0 2 0 2 0 2 0 2 0 2 0 2 0 2 0 2 0 2 0 2 0 2 0 2]\n"
     ]
    }
   ],
   "source": [
    "l = 'acegikmoqsuwy'\n",
    "print(list(l))\n",
    "update_tallies(l)\n",
    "print(tallies)"
   ]
  },
  {
   "cell_type": "code",
   "execution_count": 10,
   "metadata": {},
   "outputs": [
    {
     "name": "stdout",
     "output_type": "stream",
     "text": [
      "[2 0 6 0 2 0 2 0 2 0 2 0 2 0 2 0 2 0 2 0 2 0 2 0 2 0 2]\n"
     ]
    }
   ],
   "source": [
    "print(tallies)"
   ]
  },
  {
   "cell_type": "code",
   "execution_count": 11,
   "metadata": {},
   "outputs": [],
   "source": [
    "# get total of questions everyone answers 'yes' per group \n",
    "def q_count(tallies):\n",
    "    q = 0\n",
    "    # update q comparing value of each question/key to T\n",
    "    for i in range(0, 26):\n",
    "        if tallies[i] == tallies[26]:\n",
    "            q += 1\n",
    "    return q\n"
   ]
  },
  {
   "cell_type": "code",
   "execution_count": 12,
   "metadata": {},
   "outputs": [
    {
     "data": {
      "text/plain": [
       "12"
      ]
     },
     "execution_count": 12,
     "metadata": {},
     "output_type": "execute_result"
    }
   ],
   "source": [
    "sum_of_count = 0\n",
    "sum_of_count = sum_of_count + q_count(tallies)\n",
    "sum_of_count"
   ]
  },
  {
   "cell_type": "code",
   "execution_count": null,
   "metadata": {},
   "outputs": [],
   "source": [
    "# initialize variables\n",
    "sum_of_count = 0      # cumulative sum for all groups\n",
    "count        = 0      # count of questions per group\n",
    "i            = 0      # to iterate through data\n",
    "tallies      = [0]*27 # to store tallies for each person\n",
    "q = 'abcdefghijklmnopqrstuvwxyzT'\n",
    "\n",
    "# loop through all data\n",
    "while i < len(data)-1:\n",
    "#    print('i: ', i, data[i])\n",
    "    l = data[i].rstrip('\\n')\n",
    "    # update tallies for each person\n",
    "    if l!='':\n",
    "        update_tallies(l)\n",
    "#        print(l)\n",
    "#        print(tallies)\n",
    "        \n",
    "    # if next line is blank/end of one group\n",
    "    if data[i+1] == '\\n': \n",
    "        # get count of questions that everyone answered 'yes'\n",
    "        count = q_count(tallies)\n",
    "        # cumulative total for groups so far\n",
    "        sum_of_count = sum_of_count + count\n",
    "#        print('cumulative sum of count:', sum_of_count)\n",
    "        \n",
    "        #reset for next group\n",
    "        tallies = [0]*27\n",
    "        count   = 0\n",
    "    i += 1  # to process next line\n",
    "    \n"
   ]
  },
  {
   "cell_type": "code",
   "execution_count": 14,
   "metadata": {},
   "outputs": [
    {
     "name": "stdout",
     "output_type": "stream",
     "text": [
      "part 2: 3158\n"
     ]
    }
   ],
   "source": [
    "print('part 2:', sum_of_count)"
   ]
  },
  {
   "cell_type": "code",
   "execution_count": null,
   "metadata": {},
   "outputs": [],
   "source": []
  }
 ],
 "metadata": {
  "kernelspec": {
   "display_name": "Python 3",
   "language": "python",
   "name": "python3"
  },
  "language_info": {
   "codemirror_mode": {
    "name": "ipython",
    "version": 3
   },
   "file_extension": ".py",
   "mimetype": "text/x-python",
   "name": "python",
   "nbconvert_exporter": "python",
   "pygments_lexer": "ipython3",
   "version": "3.8.3"
  }
 },
 "nbformat": 4,
 "nbformat_minor": 4
}
