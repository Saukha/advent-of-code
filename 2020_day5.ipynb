{
 "cells": [
  {
   "cell_type": "markdown",
   "metadata": {},
   "source": [
    "### 2020 day 5\n",
    "\n",
    "F means \"front\", B means \"back\", L means \"left\", and R means \"right\".\n",
    "\n",
    "For example, consider just the first seven characters of FBFBBFFRLR:\n",
    "\n",
    "    Start by considering the whole range, rows 0 through 127.\n",
    "    F means to take the lower half, keeping rows 0 through 63.\n",
    "    B means to take the upper half, keeping rows 32 through 63.\n",
    "    F means to take the lower half, keeping rows 32 through 47.\n",
    "    B means to take the upper half, keeping rows 40 through 47.\n",
    "    B keeps rows 44 through 47.\n",
    "    F keeps rows 44 through 45.\n",
    "    The final F keeps the lower of the two, row 44.\n",
    "\n",
    "The last three characters will be either L or R; these specify exactly one of the 8 columns of seats on the plane (numbered 0 through 7). The same process as above proceeds again, this time with only three steps. L means to keep the lower half, while R means to keep the upper half.\n",
    "\n",
    "For example, consider just the last 3 characters of FBFBBFFRLR:\n",
    "\n",
    "    Start by considering the whole range, columns 0 through 7.\n",
    "    R means to take the upper half, keeping columns 4 through 7.\n",
    "    L means to take the lower half, keeping columns 4 through 5.\n",
    "    The final R keeps the upper of the two, column 5.\n",
    "\n",
    "So, decoding FBFBBFFRLR reveals that it is the seat at row 44, column 5.\n",
    "\n",
    "Every seat also has a unique seat ID: multiply the row by 8, then add the column. In this example, the seat has ID 44 * 8 + 5 = 357."
   ]
  },
  {
   "cell_type": "code",
   "execution_count": 1,
   "metadata": {},
   "outputs": [
    {
     "data": {
      "text/plain": [
       "[0, 0, 0]"
      ]
     },
     "execution_count": 1,
     "metadata": {},
     "output_type": "execute_result"
    }
   ],
   "source": [
    "seat = [0, 0, 0]\n",
    "seat"
   ]
  },
  {
   "cell_type": "code",
   "execution_count": 2,
   "metadata": {},
   "outputs": [],
   "source": [
    "def F(row):\n",
    "    x, y = row\n",
    "    y = y - (y - x - 1)/2 -1\n",
    "    return (x, y)\n",
    "\n",
    "def B(row):\n",
    "    x, y = row\n",
    "    x = x + (y - x -1)/2 + 1\n",
    "    return (x, y)\n",
    "\n",
    "def R(col):\n",
    "    x, y = col\n",
    "    x = x + (y - x -1)/2 + 1\n",
    "    return (x, y)\n",
    "\n",
    "def L(col):\n",
    "    x, y = col\n",
    "    y = y - (y - x - 1)/2 -1\n",
    "    return (x, y)\n",
    "\n",
    "def ID(row, col):\n",
    "    return row*8+col"
   ]
  },
  {
   "cell_type": "code",
   "execution_count": 3,
   "metadata": {},
   "outputs": [
    {
     "data": {
      "text/plain": [
       "(0, 63.0)"
      ]
     },
     "execution_count": 3,
     "metadata": {},
     "output_type": "execute_result"
    }
   ],
   "source": [
    "row = (0, 127)\n",
    "row = F((row))\n",
    "row"
   ]
  },
  {
   "cell_type": "code",
   "execution_count": 4,
   "metadata": {},
   "outputs": [
    {
     "data": {
      "text/plain": [
       "(32.0, 63.0)"
      ]
     },
     "execution_count": 4,
     "metadata": {},
     "output_type": "execute_result"
    }
   ],
   "source": [
    "row = B(row)\n",
    "row"
   ]
  },
  {
   "cell_type": "code",
   "execution_count": 5,
   "metadata": {},
   "outputs": [
    {
     "data": {
      "text/plain": [
       "(32.0, 47.0)"
      ]
     },
     "execution_count": 5,
     "metadata": {},
     "output_type": "execute_result"
    }
   ],
   "source": [
    "row = F((row))\n",
    "row"
   ]
  },
  {
   "cell_type": "code",
   "execution_count": 6,
   "metadata": {},
   "outputs": [
    {
     "data": {
      "text/plain": [
       "(40.0, 47.0)"
      ]
     },
     "execution_count": 6,
     "metadata": {},
     "output_type": "execute_result"
    }
   ],
   "source": [
    "row = B(row)\n",
    "row"
   ]
  },
  {
   "cell_type": "code",
   "execution_count": 7,
   "metadata": {},
   "outputs": [
    {
     "data": {
      "text/plain": [
       "(44.0, 47.0)"
      ]
     },
     "execution_count": 7,
     "metadata": {},
     "output_type": "execute_result"
    }
   ],
   "source": [
    "row = B(row)\n",
    "row"
   ]
  },
  {
   "cell_type": "code",
   "execution_count": 8,
   "metadata": {},
   "outputs": [
    {
     "data": {
      "text/plain": [
       "(44.0, 45.0)"
      ]
     },
     "execution_count": 8,
     "metadata": {},
     "output_type": "execute_result"
    }
   ],
   "source": [
    "row = F((row))\n",
    "row"
   ]
  },
  {
   "cell_type": "code",
   "execution_count": 9,
   "metadata": {},
   "outputs": [
    {
     "data": {
      "text/plain": [
       "(44.0, 44.0)"
      ]
     },
     "execution_count": 9,
     "metadata": {},
     "output_type": "execute_result"
    }
   ],
   "source": [
    "row = F((row))\n",
    "row"
   ]
  },
  {
   "cell_type": "code",
   "execution_count": 10,
   "metadata": {},
   "outputs": [
    {
     "data": {
      "text/plain": [
       "(4.0, 7)"
      ]
     },
     "execution_count": 10,
     "metadata": {},
     "output_type": "execute_result"
    }
   ],
   "source": [
    "col = (0, 7)\n",
    "col = R(col)\n",
    "col"
   ]
  },
  {
   "cell_type": "code",
   "execution_count": 11,
   "metadata": {},
   "outputs": [
    {
     "data": {
      "text/plain": [
       "(4.0, 5.0)"
      ]
     },
     "execution_count": 11,
     "metadata": {},
     "output_type": "execute_result"
    }
   ],
   "source": [
    "col = L(col)\n",
    "col"
   ]
  },
  {
   "cell_type": "code",
   "execution_count": 12,
   "metadata": {},
   "outputs": [
    {
     "data": {
      "text/plain": [
       "(5.0, 5.0)"
      ]
     },
     "execution_count": 12,
     "metadata": {},
     "output_type": "execute_result"
    }
   ],
   "source": [
    "col = R(col)\n",
    "col"
   ]
  },
  {
   "cell_type": "code",
   "execution_count": 13,
   "metadata": {},
   "outputs": [
    {
     "data": {
      "text/plain": [
       "357.0"
      ]
     },
     "execution_count": 13,
     "metadata": {},
     "output_type": "execute_result"
    }
   ],
   "source": [
    "seat_ID = ID(row[0], col[0])\n",
    "seat_ID"
   ]
  },
  {
   "cell_type": "code",
   "execution_count": 14,
   "metadata": {},
   "outputs": [
    {
     "name": "stdout",
     "output_type": "stream",
     "text": [
      "(0, 63.0)\n",
      "(32.0, 63.0)\n",
      "(32.0, 47.0)\n",
      "(40.0, 47.0)\n",
      "(44.0, 47.0)\n",
      "(44.0, 45.0)\n",
      "(44.0, 44.0)\n"
     ]
    },
    {
     "data": {
      "text/plain": [
       "(44.0, 44.0)"
      ]
     },
     "execution_count": 14,
     "metadata": {},
     "output_type": "execute_result"
    }
   ],
   "source": [
    "l='FBFBBFFRLR'\n",
    "row = (0, 127)\n",
    "for i in l[0:7]:\n",
    "    if i=='F':\n",
    "        row=F(row)\n",
    "    elif i=='B':\n",
    "        row=B(row)\n",
    "    print(row)\n",
    "row"
   ]
  },
  {
   "cell_type": "code",
   "execution_count": 15,
   "metadata": {},
   "outputs": [],
   "source": [
    "def find_seat(l):\n",
    "    # initialize\n",
    "    row=(0, 127) \n",
    "    col=(0, 7) \n",
    "    \n",
    "    # find row\n",
    "    for i in l[0:7]:\n",
    "        if   i=='F':\n",
    "            row=F(row)\n",
    "        elif i=='B':\n",
    "            row=B(row)\n",
    "\n",
    "    # find col\n",
    "    for j in l[7:10]:\n",
    "        if   j=='L':\n",
    "            col=L(col)\n",
    "        elif j=='R':\n",
    "            col=R(col)\n",
    "            \n",
    "    # find ticket ID        \n",
    "    id = ID(row[0], col[0])\n",
    "    \n",
    "    return [row[0], col[0], id]\n"
   ]
  },
  {
   "cell_type": "code",
   "execution_count": 16,
   "metadata": {},
   "outputs": [
    {
     "data": {
      "text/plain": [
       "[44.0, 5.0, 357.0]"
      ]
     },
     "execution_count": 16,
     "metadata": {},
     "output_type": "execute_result"
    }
   ],
   "source": [
    "l='FBFBBFFRLR'\n",
    "#seat = [0, 0, 0] # initialize\n",
    "seat = find_seat(l)\n",
    "seat"
   ]
  },
  {
   "cell_type": "code",
   "execution_count": 17,
   "metadata": {},
   "outputs": [
    {
     "name": "stdout",
     "output_type": "stream",
     "text": [
      "max ID: 978\n"
     ]
    }
   ],
   "source": [
    "with open('2020_day5.txt', 'r') as f:\n",
    "    data = f.readlines()\n",
    "\n",
    "max_id = 0\n",
    "for l in data:\n",
    "    seat = find_seat(l)\n",
    "    if seat[2] > max_id:\n",
    "        max_id = seat[2]\n",
    "    \n",
    "print('max ID:', int(max_id))"
   ]
  },
  {
   "cell_type": "code",
   "execution_count": 18,
   "metadata": {},
   "outputs": [
    {
     "name": "stdout",
     "output_type": "stream",
     "text": [
      "max ID: 978\n"
     ]
    }
   ],
   "source": [
    "# part 1\n",
    "\n",
    "def F(row):\n",
    "    x, y = row\n",
    "    y = y - (y - x - 1)/2 -1\n",
    "    return (x, y)\n",
    "\n",
    "def B(row):\n",
    "    x, y = row\n",
    "    x = x + (y - x -1)/2 + 1\n",
    "    return (x, y)\n",
    "\n",
    "def R(col):\n",
    "    x, y = col\n",
    "    x = x + (y - x -1)/2 + 1\n",
    "    return (x, y)\n",
    "\n",
    "def L(col):\n",
    "    x, y = col\n",
    "    y = y - (y - x - 1)/2 -1\n",
    "    return (x, y)\n",
    "\n",
    "def ID(row, col):\n",
    "    return row*8+col\n",
    "\n",
    "def find_seat(l):\n",
    "    # initialize\n",
    "    row=(0, 127) \n",
    "    col=(0, 7) \n",
    "    \n",
    "    # find row\n",
    "    for i in l[0:7]:\n",
    "        if i=='F':\n",
    "            row=F(row)\n",
    "        elif i=='B':\n",
    "            row=B(row)\n",
    "\n",
    "    # find col\n",
    "    for j in l[7:10]:\n",
    "        if j=='L':\n",
    "            col=L(col)\n",
    "        elif j=='R':\n",
    "            col=R(col)\n",
    "    \n",
    "    # find ticket ID        \n",
    "    id = ID(row[0], col[0])\n",
    "    \n",
    "    return [row[0], col[0], id]\n",
    "\n",
    "\n",
    "with open('2020_day5.txt', 'r') as f:\n",
    "    data = f.readlines()\n",
    "\n",
    "max_id = 0\n",
    "for l in data:\n",
    "    seat = find_seat(l)\n",
    "    if seat[2] > max_id:\n",
    "        max_id = seat[2]\n",
    "    \n",
    "print('max ID:', int(max_id))\n"
   ]
  },
  {
   "cell_type": "markdown",
   "metadata": {},
   "source": [
    "### part 2"
   ]
  },
  {
   "cell_type": "code",
   "execution_count": 19,
   "metadata": {},
   "outputs": [
    {
     "name": "stdout",
     "output_type": "stream",
     "text": [
      "my ticket id: 727\n"
     ]
    }
   ],
   "source": [
    "# part 2\n",
    "id_list = []\n",
    "for l in data:\n",
    "    seat = find_seat(l)\n",
    "    id_list.append(seat[2])\n",
    "\n",
    "id_list.sort()\n",
    "for i in range(0, len(id_list)-1):\n",
    "    if id_list[i+1]-id_list[i]!=1:\n",
    "        print('my ticket id:', int(id_list[i]+1))"
   ]
  }
 ],
 "metadata": {
  "kernelspec": {
   "display_name": "Python 3",
   "language": "python",
   "name": "python3"
  },
  "language_info": {
   "codemirror_mode": {
    "name": "ipython",
    "version": 3
   },
   "file_extension": ".py",
   "mimetype": "text/x-python",
   "name": "python",
   "nbconvert_exporter": "python",
   "pygments_lexer": "ipython3",
   "version": "3.8.3"
  }
 },
 "nbformat": 4,
 "nbformat_minor": 4
}
